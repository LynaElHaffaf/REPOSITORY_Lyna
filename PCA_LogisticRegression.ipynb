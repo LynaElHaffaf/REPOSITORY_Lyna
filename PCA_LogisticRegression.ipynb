{
 "cells": [
  {
   "cell_type": "code",
   "execution_count": 91,
   "id": "256f8f86",
   "metadata": {},
   "outputs": [],
   "source": [
    "import pandas as pd\n",
    "import numpy as np\n",
    "from mpl_toolkits.mplot3d import Axes3D\n",
    "\n",
    "import sklearn\n",
    "from sklearn import decomposition\n",
    "from sklearn import datasets\n",
    "from sklearn.decomposition import PCA\n",
    "from sklearn.preprocessing import StandardScaler\n",
    "\n",
    "from sklearn.model_selection import train_test_split\n",
    "from sklearn.neighbors import KNeighborsClassifier\n",
    "import seaborn as sns\n",
    "sns.set()\n",
    "import matplotlib.pyplot as plt\n",
    "import os\n",
    "\n",
    "from sklearn.preprocessing import MinMaxScaler\n",
    "\n",
    "from matplotlib.colors import ListedColormap"
   ]
  },
  {
   "cell_type": "code",
   "execution_count": 212,
   "id": "50a05da1",
   "metadata": {},
   "outputs": [],
   "source": [
    "PPMI = pd.read_excel('/Users/lynaelhaffaf/Documents/PPMI.xlsx')"
   ]
  },
  {
   "cell_type": "code",
   "execution_count": 93,
   "id": "8756f535",
   "metadata": {},
   "outputs": [
    {
     "data": {
      "text/html": [
       "<div>\n",
       "<style scoped>\n",
       "    .dataframe tbody tr th:only-of-type {\n",
       "        vertical-align: middle;\n",
       "    }\n",
       "\n",
       "    .dataframe tbody tr th {\n",
       "        vertical-align: top;\n",
       "    }\n",
       "\n",
       "    .dataframe thead th {\n",
       "        text-align: right;\n",
       "    }\n",
       "</style>\n",
       "<table border=\"1\" class=\"dataframe\">\n",
       "  <thead>\n",
       "    <tr style=\"text-align: right;\">\n",
       "      <th></th>\n",
       "      <th>Unnamed: 0</th>\n",
       "      <th>SITE</th>\n",
       "      <th>PATNO</th>\n",
       "      <th>APPRDX</th>\n",
       "      <th>EVENT_ID</th>\n",
       "      <th>age</th>\n",
       "      <th>age_cat</th>\n",
       "      <th>gen</th>\n",
       "      <th>EDUCYRS</th>\n",
       "      <th>educ</th>\n",
       "      <th>...</th>\n",
       "      <th>frontal_middle_rostral_FoldIndR_DK_x</th>\n",
       "      <th>frontal_superior_FoldIndR_DK_x</th>\n",
       "      <th>parietal_superior_FoldIndR_DK_x</th>\n",
       "      <th>temporal_superior_FoldIndR_DK_x</th>\n",
       "      <th>parietal_supramarginal_FoldIndR_DK_x</th>\n",
       "      <th>frontal_pole_FoldIndR_DK_x</th>\n",
       "      <th>temporal_pole_FoldIndR_DK_x</th>\n",
       "      <th>temporal_transverse_FoldIndR_DK_x</th>\n",
       "      <th>insula_FoldIndR_DK_x</th>\n",
       "      <th>eTIV_x</th>\n",
       "    </tr>\n",
       "  </thead>\n",
       "  <tbody>\n",
       "    <tr>\n",
       "      <th>0</th>\n",
       "      <td>0</td>\n",
       "      <td>10</td>\n",
       "      <td>3000</td>\n",
       "      <td>2</td>\n",
       "      <td>BL</td>\n",
       "      <td>69.1397</td>\n",
       "      <td>3</td>\n",
       "      <td>2</td>\n",
       "      <td>18</td>\n",
       "      <td>2</td>\n",
       "      <td>...</td>\n",
       "      <td>127</td>\n",
       "      <td>112</td>\n",
       "      <td>101</td>\n",
       "      <td>50</td>\n",
       "      <td>69</td>\n",
       "      <td>16</td>\n",
       "      <td>7</td>\n",
       "      <td>4</td>\n",
       "      <td>34.0</td>\n",
       "      <td>1.561952e+06</td>\n",
       "    </tr>\n",
       "    <tr>\n",
       "      <th>1</th>\n",
       "      <td>1</td>\n",
       "      <td>10</td>\n",
       "      <td>3001</td>\n",
       "      <td>1</td>\n",
       "      <td>BL</td>\n",
       "      <td>65.1425</td>\n",
       "      <td>2</td>\n",
       "      <td>1</td>\n",
       "      <td>16</td>\n",
       "      <td>2</td>\n",
       "      <td>...</td>\n",
       "      <td>138</td>\n",
       "      <td>123</td>\n",
       "      <td>82</td>\n",
       "      <td>58</td>\n",
       "      <td>81</td>\n",
       "      <td>10</td>\n",
       "      <td>9</td>\n",
       "      <td>7</td>\n",
       "      <td>36.0</td>\n",
       "      <td>1.705960e+06</td>\n",
       "    </tr>\n",
       "    <tr>\n",
       "      <th>2</th>\n",
       "      <td>2</td>\n",
       "      <td>10</td>\n",
       "      <td>3002</td>\n",
       "      <td>1</td>\n",
       "      <td>BL</td>\n",
       "      <td>67.5781</td>\n",
       "      <td>3</td>\n",
       "      <td>2</td>\n",
       "      <td>16</td>\n",
       "      <td>2</td>\n",
       "      <td>...</td>\n",
       "      <td>93</td>\n",
       "      <td>76</td>\n",
       "      <td>79</td>\n",
       "      <td>42</td>\n",
       "      <td>55</td>\n",
       "      <td>6</td>\n",
       "      <td>13</td>\n",
       "      <td>3</td>\n",
       "      <td>29.0</td>\n",
       "      <td>1.353961e+06</td>\n",
       "    </tr>\n",
       "    <tr>\n",
       "      <th>3</th>\n",
       "      <td>3</td>\n",
       "      <td>10</td>\n",
       "      <td>3003</td>\n",
       "      <td>1</td>\n",
       "      <td>BL</td>\n",
       "      <td>56.7178</td>\n",
       "      <td>2</td>\n",
       "      <td>2</td>\n",
       "      <td>16</td>\n",
       "      <td>2</td>\n",
       "      <td>...</td>\n",
       "      <td>117</td>\n",
       "      <td>93</td>\n",
       "      <td>76</td>\n",
       "      <td>58</td>\n",
       "      <td>54</td>\n",
       "      <td>13</td>\n",
       "      <td>8</td>\n",
       "      <td>6</td>\n",
       "      <td>30.0</td>\n",
       "      <td>1.571106e+06</td>\n",
       "    </tr>\n",
       "    <tr>\n",
       "      <th>4</th>\n",
       "      <td>4</td>\n",
       "      <td>10</td>\n",
       "      <td>3004</td>\n",
       "      <td>2</td>\n",
       "      <td>BL</td>\n",
       "      <td>59.4137</td>\n",
       "      <td>2</td>\n",
       "      <td>1</td>\n",
       "      <td>16</td>\n",
       "      <td>2</td>\n",
       "      <td>...</td>\n",
       "      <td>90</td>\n",
       "      <td>97</td>\n",
       "      <td>91</td>\n",
       "      <td>49</td>\n",
       "      <td>88</td>\n",
       "      <td>13</td>\n",
       "      <td>9</td>\n",
       "      <td>5</td>\n",
       "      <td>39.0</td>\n",
       "      <td>1.614622e+06</td>\n",
       "    </tr>\n",
       "  </tbody>\n",
       "</table>\n",
       "<p>5 rows × 599 columns</p>\n",
       "</div>"
      ],
      "text/plain": [
       "   Unnamed: 0  SITE  PATNO  APPRDX EVENT_ID      age  age_cat  gen  EDUCYRS  \\\n",
       "0           0    10   3000       2       BL  69.1397        3    2       18   \n",
       "1           1    10   3001       1       BL  65.1425        2    1       16   \n",
       "2           2    10   3002       1       BL  67.5781        3    2       16   \n",
       "3           3    10   3003       1       BL  56.7178        2    2       16   \n",
       "4           4    10   3004       2       BL  59.4137        2    1       16   \n",
       "\n",
       "   educ  ...  frontal_middle_rostral_FoldIndR_DK_x  \\\n",
       "0     2  ...                                   127   \n",
       "1     2  ...                                   138   \n",
       "2     2  ...                                    93   \n",
       "3     2  ...                                   117   \n",
       "4     2  ...                                    90   \n",
       "\n",
       "   frontal_superior_FoldIndR_DK_x parietal_superior_FoldIndR_DK_x  \\\n",
       "0                             112                             101   \n",
       "1                             123                              82   \n",
       "2                              76                              79   \n",
       "3                              93                              76   \n",
       "4                              97                              91   \n",
       "\n",
       "  temporal_superior_FoldIndR_DK_x parietal_supramarginal_FoldIndR_DK_x  \\\n",
       "0                              50                                   69   \n",
       "1                              58                                   81   \n",
       "2                              42                                   55   \n",
       "3                              58                                   54   \n",
       "4                              49                                   88   \n",
       "\n",
       "  frontal_pole_FoldIndR_DK_x temporal_pole_FoldIndR_DK_x  \\\n",
       "0                         16                           7   \n",
       "1                         10                           9   \n",
       "2                          6                          13   \n",
       "3                         13                           8   \n",
       "4                         13                           9   \n",
       "\n",
       "  temporal_transverse_FoldIndR_DK_x insula_FoldIndR_DK_x        eTIV_x  \n",
       "0                                 4                 34.0  1.561952e+06  \n",
       "1                                 7                 36.0  1.705960e+06  \n",
       "2                                 3                 29.0  1.353961e+06  \n",
       "3                                 6                 30.0  1.571106e+06  \n",
       "4                                 5                 39.0  1.614622e+06  \n",
       "\n",
       "[5 rows x 599 columns]"
      ]
     },
     "execution_count": 93,
     "metadata": {},
     "output_type": "execute_result"
    }
   ],
   "source": [
    "PPMI.head()"
   ]
  },
  {
   "cell_type": "code",
   "execution_count": 213,
   "id": "689fa1e0",
   "metadata": {},
   "outputs": [],
   "source": [
    "roi = ['frontal_middle_caudal_ThickL_DK_x', 'occipital_cuneus_ThickL_DK_x', 'temporal_entorhinal_ThickL_DK_x', 'temporal_fusiform_ThickL_DK_x']\n",
    "target = ['APPRDX']\n",
    "\n",
    "# Separating out the ROI\n",
    "x=PPMI.loc[:, roi].values\n",
    "\n",
    "# Separating out the target\n",
    "y=PPMI.loc[:, target].values\n",
    "\n",
    "# Standardizing the ROI\n",
    "x = StandardScaler().fit_transform(x)"
   ]
  },
  {
   "cell_type": "code",
   "execution_count": 214,
   "id": "1b8cf218",
   "metadata": {},
   "outputs": [],
   "source": [
    "#PCA projection in 2D\n",
    "from sklearn.decomposition import PCA\n",
    "\n",
    "pca = PCA(n_components=2)\n",
    "\n",
    "principalComponents = pca.fit_transform(x)\n",
    "\n",
    "principalDf = pd.DataFrame(data = principalComponents, columns = ['principal component 1', 'principal component 2'])"
   ]
  },
  {
   "cell_type": "code",
   "execution_count": 196,
   "id": "ca002f90",
   "metadata": {},
   "outputs": [
    {
     "data": {
      "text/html": [
       "<div>\n",
       "<style scoped>\n",
       "    .dataframe tbody tr th:only-of-type {\n",
       "        vertical-align: middle;\n",
       "    }\n",
       "\n",
       "    .dataframe tbody tr th {\n",
       "        vertical-align: top;\n",
       "    }\n",
       "\n",
       "    .dataframe thead th {\n",
       "        text-align: right;\n",
       "    }\n",
       "</style>\n",
       "<table border=\"1\" class=\"dataframe\">\n",
       "  <thead>\n",
       "    <tr style=\"text-align: right;\">\n",
       "      <th></th>\n",
       "      <th>principal component 1</th>\n",
       "      <th>principal component 2</th>\n",
       "    </tr>\n",
       "  </thead>\n",
       "  <tbody>\n",
       "    <tr>\n",
       "      <th>0</th>\n",
       "      <td>0.695036</td>\n",
       "      <td>1.234033</td>\n",
       "    </tr>\n",
       "    <tr>\n",
       "      <th>1</th>\n",
       "      <td>0.284296</td>\n",
       "      <td>-0.942056</td>\n",
       "    </tr>\n",
       "    <tr>\n",
       "      <th>2</th>\n",
       "      <td>-2.062911</td>\n",
       "      <td>-0.887017</td>\n",
       "    </tr>\n",
       "    <tr>\n",
       "      <th>3</th>\n",
       "      <td>-1.367813</td>\n",
       "      <td>-0.491107</td>\n",
       "    </tr>\n",
       "    <tr>\n",
       "      <th>4</th>\n",
       "      <td>-1.008313</td>\n",
       "      <td>-0.255709</td>\n",
       "    </tr>\n",
       "    <tr>\n",
       "      <th>...</th>\n",
       "      <td>...</td>\n",
       "      <td>...</td>\n",
       "    </tr>\n",
       "    <tr>\n",
       "      <th>878</th>\n",
       "      <td>0.851270</td>\n",
       "      <td>2.135084</td>\n",
       "    </tr>\n",
       "    <tr>\n",
       "      <th>879</th>\n",
       "      <td>-0.183124</td>\n",
       "      <td>-0.277624</td>\n",
       "    </tr>\n",
       "    <tr>\n",
       "      <th>880</th>\n",
       "      <td>-0.276281</td>\n",
       "      <td>-0.021787</td>\n",
       "    </tr>\n",
       "    <tr>\n",
       "      <th>881</th>\n",
       "      <td>-0.276281</td>\n",
       "      <td>-0.021787</td>\n",
       "    </tr>\n",
       "    <tr>\n",
       "      <th>882</th>\n",
       "      <td>0.173671</td>\n",
       "      <td>-0.801238</td>\n",
       "    </tr>\n",
       "  </tbody>\n",
       "</table>\n",
       "<p>883 rows × 2 columns</p>\n",
       "</div>"
      ],
      "text/plain": [
       "     principal component 1  principal component 2\n",
       "0                 0.695036               1.234033\n",
       "1                 0.284296              -0.942056\n",
       "2                -2.062911              -0.887017\n",
       "3                -1.367813              -0.491107\n",
       "4                -1.008313              -0.255709\n",
       "..                     ...                    ...\n",
       "878               0.851270               2.135084\n",
       "879              -0.183124              -0.277624\n",
       "880              -0.276281              -0.021787\n",
       "881              -0.276281              -0.021787\n",
       "882               0.173671              -0.801238\n",
       "\n",
       "[883 rows x 2 columns]"
      ]
     },
     "execution_count": 196,
     "metadata": {},
     "output_type": "execute_result"
    }
   ],
   "source": [
    "principalDf"
   ]
  },
  {
   "cell_type": "code",
   "execution_count": 215,
   "id": "ecfec221",
   "metadata": {},
   "outputs": [],
   "source": [
    "#combine the 2 PC with the target to get the final DataFrame\n",
    "finalDf = pd.concat([principalDf, PPMI[target]], axis = 1)"
   ]
  },
  {
   "cell_type": "code",
   "execution_count": 184,
   "id": "8acf9cf9",
   "metadata": {
    "scrolled": true
   },
   "outputs": [
    {
     "name": "stdout",
     "output_type": "stream",
     "text": [
      "     principal component 1  principal component 2  APPRDX\n",
      "0                 0.695036               1.234033       2\n",
      "1                 0.284296              -0.942056       1\n",
      "2                -2.062911              -0.887017       1\n",
      "3                -1.367813              -0.491107       1\n",
      "4                -1.008313              -0.255709       2\n",
      "..                     ...                    ...     ...\n",
      "878               0.851270               2.135084       3\n",
      "879              -0.183124              -0.277624       1\n",
      "880              -0.276281              -0.021787       1\n",
      "881              -0.276281              -0.021787       1\n",
      "882               0.173671              -0.801238       2\n",
      "\n",
      "[883 rows x 3 columns]\n"
     ]
    }
   ],
   "source": [
    "print(finalDf)"
   ]
  },
  {
   "cell_type": "code",
   "execution_count": 221,
   "id": "14b30cb5",
   "metadata": {},
   "outputs": [
    {
     "data": {
      "image/png": "[encoded data removed]",
      "text/plain": [
       "<Figure size 576x576 with 1 Axes>"
      ]
     },
     "metadata": {},
     "output_type": "display_data"
    }
   ],
   "source": [
    "fig = plt.figure(figsize = (8,8))\n",
    "ax = fig.add_subplot(1,1,1) \n",
    "ax.set_xlabel('Principal Component 1', fontsize = 15)\n",
    "ax.set_ylabel('Principal Component 2', fontsize = 15)\n",
    "ax.set_title('2 component PCA', fontsize = 20)\n",
    "\n",
    "targets = ['1', '2', '3']\n",
    "colors = ['red', 'green', 'blue']\n",
    "for finalDf['APPRDX'], color in zip(targets,colors):\n",
    "    indicesToKeep = finalDf['APPRDX'] == PPMI.APPRDX\n",
    "    ax.scatter(finalDf.loc[indicesToKeep, 'principal component 1']\n",
    "               , finalDf.loc[indicesToKeep, 'principal component 2']\n",
    "               , c = color\n",
    "               , s = 50)\n",
    "ax.legend(targets)\n",
    "ax.grid()"
   ]
  },
  {
   "cell_type": "code",
   "execution_count": 62,
   "id": "1b25c3bf",
   "metadata": {},
   "outputs": [
    {
     "data": {
      "text/plain": [
       "array([0.63821634, 0.1974565 ])"
      ]
     },
     "execution_count": 62,
     "metadata": {},
     "output_type": "execute_result"
    }
   ],
   "source": [
    "#When going from 4D to 2D you lose variance\n",
    "#So we do explained_variance_ratio_\n",
    "#if lower than 95% then it is not the best approach to use because lost too much variance\n",
    "#Here is not a good way to visualize data because variance is lower than 95%\n",
    "pca.explained_variance_ratio_"
   ]
  },
  {
   "cell_type": "code",
   "execution_count": 70,
   "id": "f0acda26",
   "metadata": {},
   "outputs": [],
   "source": [
    "PPMI = pd.read_excel('/Users/lynaelhaffaf/Documents/PPMI.xlsx')"
   ]
  },
  {
   "cell_type": "code",
   "execution_count": 75,
   "id": "84011a97",
   "metadata": {},
   "outputs": [],
   "source": [
    "from sklearn.model_selection import train_test_split\n",
    "# test_size: what proportion of original data is used for test set\n",
    "X_train, X_test, y_train, y_test = train_test_split(PPMI[roi], PPMI.APPRDX, test_size=1/7.0, random_state=0)"
   ]
  },
  {
   "cell_type": "code",
   "execution_count": 76,
   "id": "999b77d5",
   "metadata": {},
   "outputs": [],
   "source": [
    "from sklearn.preprocessing import StandardScaler\n",
    "scaler = StandardScaler()\n",
    "\n",
    "# Fit on training set only.\n",
    "scaler.fit(X_train)\n",
    "\n",
    "# Apply transform to both the training set and the test set.\n",
    "X_train = scaler.transform(X_train)\n",
    "X_test = scaler.transform(X_test)"
   ]
  },
  {
   "cell_type": "code",
   "execution_count": 77,
   "id": "ab471d94",
   "metadata": {},
   "outputs": [],
   "source": [
    "from sklearn.decomposition import PCA\n",
    "# Make an instance of the Model\n",
    "pca = PCA(.95)"
   ]
  },
  {
   "cell_type": "code",
   "execution_count": 78,
   "id": "1a2c9f0b",
   "metadata": {},
   "outputs": [
    {
     "data": {
      "text/plain": [
       "PCA(n_components=0.95)"
      ]
     },
     "execution_count": 78,
     "metadata": {},
     "output_type": "execute_result"
    }
   ],
   "source": [
    "#telling sklearn to choose the minimum number of PC such tht 95% of the variance is retained\n",
    "pca.fit(X_train)"
   ]
  },
  {
   "cell_type": "code",
   "execution_count": 80,
   "id": "a5486219",
   "metadata": {},
   "outputs": [
    {
     "data": {
      "text/plain": [
       "4"
      ]
     },
     "execution_count": 80,
     "metadata": {},
     "output_type": "execute_result"
    }
   ],
   "source": [
    "pca.n_components_"
   ]
  },
  {
   "cell_type": "code",
   "execution_count": 81,
   "id": "4a59a976",
   "metadata": {},
   "outputs": [],
   "source": [
    "X_train = pca.transform(X_train)\n",
    "X_test = pca.transform(X_test)"
   ]
  },
  {
   "cell_type": "code",
   "execution_count": 82,
   "id": "16eca4be",
   "metadata": {},
   "outputs": [],
   "source": [
    "#applying logistic regression to the transformed data \n",
    "from sklearn.linear_model import LogisticRegression"
   ]
  },
  {
   "cell_type": "code",
   "execution_count": 83,
   "id": "5836289b",
   "metadata": {},
   "outputs": [],
   "source": [
    "#Making an isntance model\n",
    "# all parameters not specified are set to their defaults\n",
    "# default solver is incredibly slow which is why it was changed to 'lbfgs'\n",
    "logisticRegr = LogisticRegression(solver = 'lbfgs')"
   ]
  },
  {
   "cell_type": "code",
   "execution_count": 84,
   "id": "c53a7e1a",
   "metadata": {},
   "outputs": [
    {
     "data": {
      "text/plain": [
       "LogisticRegression()"
      ]
     },
     "execution_count": 84,
     "metadata": {},
     "output_type": "execute_result"
    }
   ],
   "source": [
    "logisticRegr.fit(X_train, y_train)"
   ]
  },
  {
   "cell_type": "code",
   "execution_count": 85,
   "id": "84986eee",
   "metadata": {},
   "outputs": [
    {
     "data": {
      "text/plain": [
       "array([1])"
      ]
     },
     "execution_count": 85,
     "metadata": {},
     "output_type": "execute_result"
    }
   ],
   "source": [
    "# Predict for One Observation (image)\n",
    "logisticRegr.predict(X_test[0].reshape(1,-1))"
   ]
  },
  {
   "cell_type": "code",
   "execution_count": 86,
   "id": "dc14b32f",
   "metadata": {},
   "outputs": [
    {
     "data": {
      "text/plain": [
       "array([1, 1, 1, 1, 1, 1, 1, 1, 1, 1])"
      ]
     },
     "execution_count": 86,
     "metadata": {},
     "output_type": "execute_result"
    }
   ],
   "source": [
    "# Predict for One Observation (image)\n",
    "logisticRegr.predict(X_test[0:10])"
   ]
  },
  {
   "cell_type": "code",
   "execution_count": 88,
   "id": "c0967f2d",
   "metadata": {},
   "outputs": [
    {
     "data": {
      "text/plain": [
       "0.7322834645669292"
      ]
     },
     "execution_count": 88,
     "metadata": {},
     "output_type": "execute_result"
    }
   ],
   "source": [
    "#Measuring Model Performance\n",
    "logisticRegr.score(X_test, y_test)"
   ]
  }
 ],
 "metadata": {
  "kernelspec": {
   "display_name": "Python 3",
   "language": "python",
   "name": "python3"
  },
  "language_info": {
   "codemirror_mode": {
    "name": "ipython",
    "version": 3
   },
   "file_extension": ".py",
   "mimetype": "text/x-python",
   "name": "python",
   "nbconvert_exporter": "python",
   "pygments_lexer": "ipython3",
   "version": "3.9.5"
  }
 },
 "nbformat": 4,
 "nbformat_minor": 5
}

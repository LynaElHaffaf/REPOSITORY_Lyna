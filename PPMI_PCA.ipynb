{
 "cells": [
  {
   "cell_type": "code",
   "execution_count": 1,
   "id": "979304eb",
   "metadata": {},
   "outputs": [],
   "source": [
    "import pandas as pd \n",
    "import numpy as np \n",
    "import random as rd \n",
    "from sklearn.decomposition import PCA \n",
    "from sklearn import preprocessing #gives functions for scaling the data before performing PCA \n",
    "import matplotlib.pyplot as plt "
   ]
  },
  {
   "cell_type": "code",
   "execution_count": 2,
   "id": "116510f5",
   "metadata": {},
   "outputs": [],
   "source": [
    "PPMI = pd.read_excel('/Users/lynaelhaffaf/Documents/PPMI.xlsx')"
   ]
  },
  {
   "cell_type": "code",
   "execution_count": 3,
   "id": "a5d1fd91",
   "metadata": {},
   "outputs": [
    {
     "data": {
      "text/html": [
       "<div>\n",
       "<style scoped>\n",
       "    .dataframe tbody tr th:only-of-type {\n",
       "        vertical-align: middle;\n",
       "    }\n",
       "\n",
       "    .dataframe tbody tr th {\n",
       "        vertical-align: top;\n",
       "    }\n",
       "\n",
       "    .dataframe thead th {\n",
       "        text-align: right;\n",
       "    }\n",
       "</style>\n",
       "<table border=\"1\" class=\"dataframe\">\n",
       "  <thead>\n",
       "    <tr style=\"text-align: right;\">\n",
       "      <th></th>\n",
       "      <th>Unnamed: 0</th>\n",
       "      <th>SITE</th>\n",
       "      <th>PATNO</th>\n",
       "      <th>APPRDX</th>\n",
       "      <th>EVENT_ID</th>\n",
       "      <th>age</th>\n",
       "      <th>age_cat</th>\n",
       "      <th>gen</th>\n",
       "      <th>EDUCYRS</th>\n",
       "      <th>educ</th>\n",
       "      <th>...</th>\n",
       "      <th>frontal_middle_rostral_FoldIndR_DK_x</th>\n",
       "      <th>frontal_superior_FoldIndR_DK_x</th>\n",
       "      <th>parietal_superior_FoldIndR_DK_x</th>\n",
       "      <th>temporal_superior_FoldIndR_DK_x</th>\n",
       "      <th>parietal_supramarginal_FoldIndR_DK_x</th>\n",
       "      <th>frontal_pole_FoldIndR_DK_x</th>\n",
       "      <th>temporal_pole_FoldIndR_DK_x</th>\n",
       "      <th>temporal_transverse_FoldIndR_DK_x</th>\n",
       "      <th>insula_FoldIndR_DK_x</th>\n",
       "      <th>eTIV_x</th>\n",
       "    </tr>\n",
       "  </thead>\n",
       "  <tbody>\n",
       "    <tr>\n",
       "      <th>0</th>\n",
       "      <td>0</td>\n",
       "      <td>10</td>\n",
       "      <td>3000</td>\n",
       "      <td>2</td>\n",
       "      <td>BL</td>\n",
       "      <td>69.1397</td>\n",
       "      <td>3</td>\n",
       "      <td>2</td>\n",
       "      <td>18</td>\n",
       "      <td>2</td>\n",
       "      <td>...</td>\n",
       "      <td>127</td>\n",
       "      <td>112</td>\n",
       "      <td>101</td>\n",
       "      <td>50</td>\n",
       "      <td>69</td>\n",
       "      <td>16</td>\n",
       "      <td>7</td>\n",
       "      <td>4</td>\n",
       "      <td>34.0</td>\n",
       "      <td>1.561952e+06</td>\n",
       "    </tr>\n",
       "    <tr>\n",
       "      <th>1</th>\n",
       "      <td>1</td>\n",
       "      <td>10</td>\n",
       "      <td>3001</td>\n",
       "      <td>1</td>\n",
       "      <td>BL</td>\n",
       "      <td>65.1425</td>\n",
       "      <td>2</td>\n",
       "      <td>1</td>\n",
       "      <td>16</td>\n",
       "      <td>2</td>\n",
       "      <td>...</td>\n",
       "      <td>138</td>\n",
       "      <td>123</td>\n",
       "      <td>82</td>\n",
       "      <td>58</td>\n",
       "      <td>81</td>\n",
       "      <td>10</td>\n",
       "      <td>9</td>\n",
       "      <td>7</td>\n",
       "      <td>36.0</td>\n",
       "      <td>1.705960e+06</td>\n",
       "    </tr>\n",
       "    <tr>\n",
       "      <th>2</th>\n",
       "      <td>2</td>\n",
       "      <td>10</td>\n",
       "      <td>3002</td>\n",
       "      <td>1</td>\n",
       "      <td>BL</td>\n",
       "      <td>67.5781</td>\n",
       "      <td>3</td>\n",
       "      <td>2</td>\n",
       "      <td>16</td>\n",
       "      <td>2</td>\n",
       "      <td>...</td>\n",
       "      <td>93</td>\n",
       "      <td>76</td>\n",
       "      <td>79</td>\n",
       "      <td>42</td>\n",
       "      <td>55</td>\n",
       "      <td>6</td>\n",
       "      <td>13</td>\n",
       "      <td>3</td>\n",
       "      <td>29.0</td>\n",
       "      <td>1.353961e+06</td>\n",
       "    </tr>\n",
       "    <tr>\n",
       "      <th>3</th>\n",
       "      <td>3</td>\n",
       "      <td>10</td>\n",
       "      <td>3003</td>\n",
       "      <td>1</td>\n",
       "      <td>BL</td>\n",
       "      <td>56.7178</td>\n",
       "      <td>2</td>\n",
       "      <td>2</td>\n",
       "      <td>16</td>\n",
       "      <td>2</td>\n",
       "      <td>...</td>\n",
       "      <td>117</td>\n",
       "      <td>93</td>\n",
       "      <td>76</td>\n",
       "      <td>58</td>\n",
       "      <td>54</td>\n",
       "      <td>13</td>\n",
       "      <td>8</td>\n",
       "      <td>6</td>\n",
       "      <td>30.0</td>\n",
       "      <td>1.571106e+06</td>\n",
       "    </tr>\n",
       "    <tr>\n",
       "      <th>4</th>\n",
       "      <td>4</td>\n",
       "      <td>10</td>\n",
       "      <td>3004</td>\n",
       "      <td>2</td>\n",
       "      <td>BL</td>\n",
       "      <td>59.4137</td>\n",
       "      <td>2</td>\n",
       "      <td>1</td>\n",
       "      <td>16</td>\n",
       "      <td>2</td>\n",
       "      <td>...</td>\n",
       "      <td>90</td>\n",
       "      <td>97</td>\n",
       "      <td>91</td>\n",
       "      <td>49</td>\n",
       "      <td>88</td>\n",
       "      <td>13</td>\n",
       "      <td>9</td>\n",
       "      <td>5</td>\n",
       "      <td>39.0</td>\n",
       "      <td>1.614622e+06</td>\n",
       "    </tr>\n",
       "  </tbody>\n",
       "</table>\n",
       "<p>5 rows × 599 columns</p>\n",
       "</div>"
      ],
      "text/plain": [
       "   Unnamed: 0  SITE  PATNO  APPRDX EVENT_ID      age  age_cat  gen  EDUCYRS  \\\n",
       "0           0    10   3000       2       BL  69.1397        3    2       18   \n",
       "1           1    10   3001       1       BL  65.1425        2    1       16   \n",
       "2           2    10   3002       1       BL  67.5781        3    2       16   \n",
       "3           3    10   3003       1       BL  56.7178        2    2       16   \n",
       "4           4    10   3004       2       BL  59.4137        2    1       16   \n",
       "\n",
       "   educ  ...  frontal_middle_rostral_FoldIndR_DK_x  \\\n",
       "0     2  ...                                   127   \n",
       "1     2  ...                                   138   \n",
       "2     2  ...                                    93   \n",
       "3     2  ...                                   117   \n",
       "4     2  ...                                    90   \n",
       "\n",
       "   frontal_superior_FoldIndR_DK_x parietal_superior_FoldIndR_DK_x  \\\n",
       "0                             112                             101   \n",
       "1                             123                              82   \n",
       "2                              76                              79   \n",
       "3                              93                              76   \n",
       "4                              97                              91   \n",
       "\n",
       "  temporal_superior_FoldIndR_DK_x parietal_supramarginal_FoldIndR_DK_x  \\\n",
       "0                              50                                   69   \n",
       "1                              58                                   81   \n",
       "2                              42                                   55   \n",
       "3                              58                                   54   \n",
       "4                              49                                   88   \n",
       "\n",
       "  frontal_pole_FoldIndR_DK_x temporal_pole_FoldIndR_DK_x  \\\n",
       "0                         16                           7   \n",
       "1                         10                           9   \n",
       "2                          6                          13   \n",
       "3                         13                           8   \n",
       "4                         13                           9   \n",
       "\n",
       "  temporal_transverse_FoldIndR_DK_x insula_FoldIndR_DK_x        eTIV_x  \n",
       "0                                 4                 34.0  1.561952e+06  \n",
       "1                                 7                 36.0  1.705960e+06  \n",
       "2                                 3                 29.0  1.353961e+06  \n",
       "3                                 6                 30.0  1.571106e+06  \n",
       "4                                 5                 39.0  1.614622e+06  \n",
       "\n",
       "[5 rows x 599 columns]"
      ]
     },
     "execution_count": 3,
     "metadata": {},
     "output_type": "execute_result"
    }
   ],
   "source": [
    "PPMI.head()"
   ]
  },
  {
   "cell_type": "code",
   "execution_count": 6,
   "id": "846b7aa8",
   "metadata": {},
   "outputs": [],
   "source": [
    "coi = ['APPRDX', 'frontal_middle_caudal_ThickL_DK_x', 'occipital_cuneus_ThickL_DK_x', 'temporal_entorhinal_ThickL_DK_x', 'temporal_fusiform_ThickL_DK_x']\n",
    "PPMI = PPMI[coi]"
   ]
  },
  {
   "cell_type": "code",
   "execution_count": 7,
   "id": "70e6c5bf",
   "metadata": {},
   "outputs": [],
   "source": [
    "scaled_data = preprocessing.scale(PPMI[coi])"
   ]
  },
  {
   "cell_type": "code",
   "execution_count": 8,
   "id": "206855c6",
   "metadata": {},
   "outputs": [],
   "source": [
    "pca = PCA()\n",
    "pca.fit(scaled_data) #this is where we calculate the loading score and variation each PC accounts for \n",
    "pca_data = pca.transform(scaled_data)"
   ]
  },
  {
   "cell_type": "code",
   "execution_count": 9,
   "id": "eadcab58",
   "metadata": {},
   "outputs": [],
   "source": [
    "per_var = np.round(pca.explained_variance_ratio_*100, decimals = 1)\n",
    "\n",
    "#create labels for the scree plot\n",
    "labels = ['PC' + str(x) for x in range(1, len(per_var)+1)]"
   ]
  },
  {
   "cell_type": "code",
   "execution_count": 10,
   "id": "206445c5",
   "metadata": {},
   "outputs": [
    {
     "data": {
      "image/png": "[encoded data removed]",
      "text/plain": [
       "<Figure size 432x288 with 1 Axes>"
      ]
     },
     "metadata": {
      "needs_background": "light"
     },
     "output_type": "display_data"
    }
   ],
   "source": [
    "plt.bar(x=range(1, len(per_var)+1), height=per_var, tick_label = labels)\n",
    "plt.ylabel('Percentage of Explained Variance')\n",
    "plt.xlabel('Principale Component')\n",
    "plt.title('Scree plot')\n",
    "plt.show()"
   ]
  },
  {
   "cell_type": "code",
   "execution_count": 27,
   "id": "1ff45fae",
   "metadata": {},
   "outputs": [
    {
     "data": {
      "image/png": "[encoded data removed]",
      "text/plain": [
       "<Figure size 432x288 with 1 Axes>"
      ]
     },
     "metadata": {
      "needs_background": "light"
     },
     "output_type": "display_data"
    }
   ],
   "source": [
    "#draw a PCA plot \n",
    "pca_df = pd.DataFrame(pca_data, index = [PPMI.frontal_middle_caudal_ThickL_DK_x], columns = labels)\n",
    "plt.scatter(pca_df.PC1, pca_df.PC2)\n",
    "plt.title('My PCA Graph')\n",
    "plt.xlabel('PC1 - {0}%'.format(per_var[0]))\n",
    "plt.ylabel('PC2 - {0}%'.format(per_var[1]))\n",
    "\n",
    "#Add sample names to the graph \n",
    "#for sample in pca_df.index:\n",
    " #   plt.annotate(sample, (pca_df.PC1.loc[sample], pca_df.PC2.loc[sample]))\n",
    "plt.show()"
   ]
  },
  {
   "cell_type": "code",
   "execution_count": 33,
   "id": "b971ad2c",
   "metadata": {},
   "outputs": [
    {
     "name": "stdout",
     "output_type": "stream",
     "text": [
      "temporal_fusiform_ThickL_DK_x       -0.561509\n",
      "frontal_middle_caudal_ThickL_DK_x   -0.537919\n",
      "occipital_cuneus_ThickL_DK_x        -0.467004\n",
      "temporal_entorhinal_ThickL_DK_x     -0.418114\n",
      "APPRDX                               0.049378\n",
      "dtype: float64\n"
     ]
    }
   ],
   "source": [
    "#loading scores\n",
    "loading_scores = pd.Series(pca.components_[0], index = coi)\n",
    "\n",
    "#Taking absolute value\n",
    "sorted_loading_scores = loading_scores.abs().sort_values(ascending = False)\n",
    "\n",
    "#getting the names of top 10 indexes\n",
    "top_10_genes= sorted_loading_scores[0:10].index.values\n",
    "print(loading_scores[top_10_genes])"
   ]
  },
  {
   "cell_type": "code",
   "execution_count": null,
   "id": "a869d59f",
   "metadata": {},
   "outputs": [],
   "source": []
  }
 ],
 "metadata": {
  "kernelspec": {
   "display_name": "Python 3",
   "language": "python",
   "name": "python3"
  },
  "language_info": {
   "codemirror_mode": {
    "name": "ipython",
    "version": 3
   },
   "file_extension": ".py",
   "mimetype": "text/x-python",
   "name": "python",
   "nbconvert_exporter": "python",
   "pygments_lexer": "ipython3",
   "version": "3.9.5"
  }
 },
 "nbformat": 4,
 "nbformat_minor": 5
}
